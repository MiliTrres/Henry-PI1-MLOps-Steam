{
  "cells": [
    {
      "cell_type": "markdown",
      "metadata": {
        "id": "SOafP8RNuCBY"
      },
      "source": [
        "## Modelado de Datos para Funciones de Machine Learning"
      ]
    },
    {
      "cell_type": "markdown",
      "metadata": {
        "id": "UJUv5WBYuCBd"
      },
      "source": [
        "Importación de librerias necesarias:"
      ]
    },
    {
      "cell_type": "code",
      "execution_count": 52,
      "metadata": {
        "id": "YOnTkRqHuCBe"
      },
      "outputs": [],
      "source": [
        "import pandas as pd\n",
        "import numpy as np\n",
        "import ast\n",
        "import FuncionExtra as f\n",
        "\n",
        "import scipy as sp\n",
        "from sklearn.metrics.pairwise import cosine_similarity"
      ]
    },
    {
      "cell_type": "markdown",
      "metadata": {
        "id": "ivop1AqVuCBh"
      },
      "source": [
        "### Modelo de recomendación item - item:"
      ]
    },
    {
      "cell_type": "markdown",
      "metadata": {
        "id": "k9qAaCM1uCBh"
      },
      "source": [
        "Generamos un modelo de recomendación en base a las **tags** de cada item."
      ]
    },
    {
      "cell_type": "code",
      "execution_count": 53,
      "metadata": {
        "id": "7aDntLfUutwf"
      },
      "outputs": [],
      "source": [
        "steam_games = pd.read_csv('../steam_games_limpio.csv', encoding='utf-8')\n",
        "\n"
      ]
    },
    {
      "cell_type": "code",
      "execution_count": 54,
      "metadata": {
        "id": "xCJ9-UxK5J3V"
      },
      "outputs": [],
      "source": [
        "steam_games.drop_duplicates(subset= 'item_id', inplace= True)"
      ]
    },
    {
      "cell_type": "markdown",
      "metadata": {
        "id": "rJ5XSg4wuCBj"
      },
      "source": [
        "Extraemos solo las columnas que utilizaremos para nuestro modelo de recomendación:"
      ]
    },
    {
      "cell_type": "code",
      "execution_count": 55,
      "metadata": {
        "id": "jx8JlmqBuCBk"
      },
      "outputs": [],
      "source": [
        "steam_games = steam_games[['item_id', 'app_name', 'tags']]"
      ]
    },
    {
      "cell_type": "markdown",
      "metadata": {
        "id": "yB-S5GN5uCBl"
      },
      "source": [
        "Visualizamos el DataFrame resultante:"
      ]
    },
    {
      "cell_type": "code",
      "execution_count": 56,
      "metadata": {
        "colab": {
          "base_uri": "https://localhost:8080/",
          "height": 423
        },
        "id": "j3lVzBhZuCBl",
        "outputId": "d9b78213-b631-414c-fe36-e43592f18791"
      },
      "outputs": [
        {
          "data": {
            "text/html": [
              "<div>\n",
              "<style scoped>\n",
              "    .dataframe tbody tr th:only-of-type {\n",
              "        vertical-align: middle;\n",
              "    }\n",
              "\n",
              "    .dataframe tbody tr th {\n",
              "        vertical-align: top;\n",
              "    }\n",
              "\n",
              "    .dataframe thead th {\n",
              "        text-align: right;\n",
              "    }\n",
              "</style>\n",
              "<table border=\"1\" class=\"dataframe\">\n",
              "  <thead>\n",
              "    <tr style=\"text-align: right;\">\n",
              "      <th></th>\n",
              "      <th>item_id</th>\n",
              "      <th>app_name</th>\n",
              "      <th>tags</th>\n",
              "    </tr>\n",
              "  </thead>\n",
              "  <tbody>\n",
              "    <tr>\n",
              "      <th>0</th>\n",
              "      <td>761140.0</td>\n",
              "      <td>Lost Summoner Kitty</td>\n",
              "      <td>['Strategy', 'Action', 'Indie', 'Casual', 'Sim...</td>\n",
              "    </tr>\n",
              "    <tr>\n",
              "      <th>5</th>\n",
              "      <td>643980.0</td>\n",
              "      <td>Ironbound</td>\n",
              "      <td>['Free to Play', 'Strategy', 'Indie', 'RPG', '...</td>\n",
              "    </tr>\n",
              "    <tr>\n",
              "      <th>9</th>\n",
              "      <td>670290.0</td>\n",
              "      <td>Real Pool 3D - Poolians</td>\n",
              "      <td>['Free to Play', 'Simulation', 'Sports', 'Casu...</td>\n",
              "    </tr>\n",
              "    <tr>\n",
              "      <th>14</th>\n",
              "      <td>767400.0</td>\n",
              "      <td>弹炸人2222</td>\n",
              "      <td>['Action', 'Adventure', 'Casual']</td>\n",
              "    </tr>\n",
              "    <tr>\n",
              "      <th>17</th>\n",
              "      <td>773570.0</td>\n",
              "      <td>Log Challenge</td>\n",
              "      <td>['Action', 'Indie', 'Casual', 'Sports']</td>\n",
              "    </tr>\n",
              "    <tr>\n",
              "      <th>...</th>\n",
              "      <td>...</td>\n",
              "      <td>...</td>\n",
              "      <td>...</td>\n",
              "    </tr>\n",
              "    <tr>\n",
              "      <th>74821</th>\n",
              "      <td>773640.0</td>\n",
              "      <td>Colony On Mars</td>\n",
              "      <td>['Strategy', 'Indie', 'Casual', 'Simulation']</td>\n",
              "    </tr>\n",
              "    <tr>\n",
              "      <th>74825</th>\n",
              "      <td>733530.0</td>\n",
              "      <td>LOGistICAL: South Africa</td>\n",
              "      <td>['Strategy', 'Indie', 'Casual']</td>\n",
              "    </tr>\n",
              "    <tr>\n",
              "      <th>74828</th>\n",
              "      <td>610660.0</td>\n",
              "      <td>Russian Roads</td>\n",
              "      <td>['Indie', 'Simulation', 'Racing']</td>\n",
              "    </tr>\n",
              "    <tr>\n",
              "      <th>74831</th>\n",
              "      <td>658870.0</td>\n",
              "      <td>EXIT 2 - Directions</td>\n",
              "      <td>['Indie', 'Casual', 'Puzzle', 'Singleplayer', ...</td>\n",
              "    </tr>\n",
              "    <tr>\n",
              "      <th>74833</th>\n",
              "      <td>681550.0</td>\n",
              "      <td>Maze Run VR</td>\n",
              "      <td>['Early Access', 'Adventure', 'Indie', 'Action...</td>\n",
              "    </tr>\n",
              "  </tbody>\n",
              "</table>\n",
              "<p>32133 rows × 3 columns</p>\n",
              "</div>"
            ],
            "text/plain": [
              "        item_id                  app_name  \\\n",
              "0      761140.0       Lost Summoner Kitty   \n",
              "5      643980.0                 Ironbound   \n",
              "9      670290.0   Real Pool 3D - Poolians   \n",
              "14     767400.0                   弹炸人2222   \n",
              "17     773570.0             Log Challenge   \n",
              "...         ...                       ...   \n",
              "74821  773640.0            Colony On Mars   \n",
              "74825  733530.0  LOGistICAL: South Africa   \n",
              "74828  610660.0             Russian Roads   \n",
              "74831  658870.0       EXIT 2 - Directions   \n",
              "74833  681550.0               Maze Run VR   \n",
              "\n",
              "                                                    tags  \n",
              "0      ['Strategy', 'Action', 'Indie', 'Casual', 'Sim...  \n",
              "5      ['Free to Play', 'Strategy', 'Indie', 'RPG', '...  \n",
              "9      ['Free to Play', 'Simulation', 'Sports', 'Casu...  \n",
              "14                     ['Action', 'Adventure', 'Casual']  \n",
              "17               ['Action', 'Indie', 'Casual', 'Sports']  \n",
              "...                                                  ...  \n",
              "74821      ['Strategy', 'Indie', 'Casual', 'Simulation']  \n",
              "74825                    ['Strategy', 'Indie', 'Casual']  \n",
              "74828                  ['Indie', 'Simulation', 'Racing']  \n",
              "74831  ['Indie', 'Casual', 'Puzzle', 'Singleplayer', ...  \n",
              "74833  ['Early Access', 'Adventure', 'Indie', 'Action...  \n",
              "\n",
              "[32133 rows x 3 columns]"
            ]
          },
          "execution_count": 56,
          "metadata": {},
          "output_type": "execute_result"
        }
      ],
      "source": [
        "steam_games"
      ]
    },
    {
      "cell_type": "markdown",
      "metadata": {
        "id": "wx0hrNH9uCBm"
      },
      "source": [
        "Información general:"
      ]
    },
    {
      "cell_type": "code",
      "execution_count": 57,
      "metadata": {
        "colab": {
          "base_uri": "https://localhost:8080/"
        },
        "id": "W0wGjMu8uCBn",
        "outputId": "0a4d62ba-f30b-4031-e78f-eefe1d85956e"
      },
      "outputs": [
        {
          "name": "stdout",
          "output_type": "stream",
          "text": [
            "<class 'pandas.core.frame.DataFrame'>\n",
            "Index: 32133 entries, 0 to 74833\n",
            "Data columns (total 3 columns):\n",
            " #   Column    Non-Null Count  Dtype  \n",
            "---  ------    --------------  -----  \n",
            " 0   item_id   32132 non-null  float64\n",
            " 1   app_name  32131 non-null  object \n",
            " 2   tags      31970 non-null  object \n",
            "dtypes: float64(1), object(2)\n",
            "memory usage: 1004.2+ KB\n"
          ]
        }
      ],
      "source": [
        "steam_games.info()"
      ]
    },
    {
      "cell_type": "markdown",
      "metadata": {
        "id": "fXW2VMCPuCBo"
      },
      "source": [
        "Porcentaje de nulos:"
      ]
    },
    {
      "cell_type": "code",
      "execution_count": 58,
      "metadata": {
        "colab": {
          "base_uri": "https://localhost:8080/"
        },
        "id": "DmCPYmNLuCBo",
        "outputId": "216ad70b-03c1-4794-be3c-678557f60778"
      },
      "outputs": [
        {
          "name": "stdout",
          "output_type": "stream",
          "text": [
            "La columna item_id tiene un  0.00 % de valores nulos\n",
            "La columna app_name tiene un  0.01 % de valores nulos\n",
            "La columna tags tiene un  0.51 % de valores nulos\n"
          ]
        }
      ],
      "source": [
        "f.porcentaje_valores_nulos(steam_games)"
      ]
    },
    {
      "cell_type": "code",
      "execution_count": 59,
      "metadata": {
        "colab": {
          "base_uri": "https://localhost:8080/",
          "height": 423
        },
        "id": "iTWBW805uCBp",
        "outputId": "4b470b02-8a85-4e61-c815-f2fc8d202c17"
      },
      "outputs": [
        {
          "data": {
            "text/html": [
              "<div>\n",
              "<style scoped>\n",
              "    .dataframe tbody tr th:only-of-type {\n",
              "        vertical-align: middle;\n",
              "    }\n",
              "\n",
              "    .dataframe tbody tr th {\n",
              "        vertical-align: top;\n",
              "    }\n",
              "\n",
              "    .dataframe thead th {\n",
              "        text-align: right;\n",
              "    }\n",
              "</style>\n",
              "<table border=\"1\" class=\"dataframe\">\n",
              "  <thead>\n",
              "    <tr style=\"text-align: right;\">\n",
              "      <th></th>\n",
              "      <th>item_id</th>\n",
              "      <th>app_name</th>\n",
              "      <th>tags</th>\n",
              "    </tr>\n",
              "  </thead>\n",
              "  <tbody>\n",
              "    <tr>\n",
              "      <th>0</th>\n",
              "      <td>761140.0</td>\n",
              "      <td>Lost Summoner Kitty</td>\n",
              "      <td>['Strategy', 'Action', 'Indie', 'Casual', 'Sim...</td>\n",
              "    </tr>\n",
              "    <tr>\n",
              "      <th>5</th>\n",
              "      <td>643980.0</td>\n",
              "      <td>Ironbound</td>\n",
              "      <td>['Free to Play', 'Strategy', 'Indie', 'RPG', '...</td>\n",
              "    </tr>\n",
              "    <tr>\n",
              "      <th>9</th>\n",
              "      <td>670290.0</td>\n",
              "      <td>Real Pool 3D - Poolians</td>\n",
              "      <td>['Free to Play', 'Simulation', 'Sports', 'Casu...</td>\n",
              "    </tr>\n",
              "    <tr>\n",
              "      <th>14</th>\n",
              "      <td>767400.0</td>\n",
              "      <td>弹炸人2222</td>\n",
              "      <td>['Action', 'Adventure', 'Casual']</td>\n",
              "    </tr>\n",
              "    <tr>\n",
              "      <th>17</th>\n",
              "      <td>773570.0</td>\n",
              "      <td>Log Challenge</td>\n",
              "      <td>['Action', 'Indie', 'Casual', 'Sports']</td>\n",
              "    </tr>\n",
              "    <tr>\n",
              "      <th>...</th>\n",
              "      <td>...</td>\n",
              "      <td>...</td>\n",
              "      <td>...</td>\n",
              "    </tr>\n",
              "    <tr>\n",
              "      <th>74821</th>\n",
              "      <td>773640.0</td>\n",
              "      <td>Colony On Mars</td>\n",
              "      <td>['Strategy', 'Indie', 'Casual', 'Simulation']</td>\n",
              "    </tr>\n",
              "    <tr>\n",
              "      <th>74825</th>\n",
              "      <td>733530.0</td>\n",
              "      <td>LOGistICAL: South Africa</td>\n",
              "      <td>['Strategy', 'Indie', 'Casual']</td>\n",
              "    </tr>\n",
              "    <tr>\n",
              "      <th>74828</th>\n",
              "      <td>610660.0</td>\n",
              "      <td>Russian Roads</td>\n",
              "      <td>['Indie', 'Simulation', 'Racing']</td>\n",
              "    </tr>\n",
              "    <tr>\n",
              "      <th>74831</th>\n",
              "      <td>658870.0</td>\n",
              "      <td>EXIT 2 - Directions</td>\n",
              "      <td>['Indie', 'Casual', 'Puzzle', 'Singleplayer', ...</td>\n",
              "    </tr>\n",
              "    <tr>\n",
              "      <th>74833</th>\n",
              "      <td>681550.0</td>\n",
              "      <td>Maze Run VR</td>\n",
              "      <td>['Early Access', 'Adventure', 'Indie', 'Action...</td>\n",
              "    </tr>\n",
              "  </tbody>\n",
              "</table>\n",
              "<p>32133 rows × 3 columns</p>\n",
              "</div>"
            ],
            "text/plain": [
              "        item_id                  app_name  \\\n",
              "0      761140.0       Lost Summoner Kitty   \n",
              "5      643980.0                 Ironbound   \n",
              "9      670290.0   Real Pool 3D - Poolians   \n",
              "14     767400.0                   弹炸人2222   \n",
              "17     773570.0             Log Challenge   \n",
              "...         ...                       ...   \n",
              "74821  773640.0            Colony On Mars   \n",
              "74825  733530.0  LOGistICAL: South Africa   \n",
              "74828  610660.0             Russian Roads   \n",
              "74831  658870.0       EXIT 2 - Directions   \n",
              "74833  681550.0               Maze Run VR   \n",
              "\n",
              "                                                    tags  \n",
              "0      ['Strategy', 'Action', 'Indie', 'Casual', 'Sim...  \n",
              "5      ['Free to Play', 'Strategy', 'Indie', 'RPG', '...  \n",
              "9      ['Free to Play', 'Simulation', 'Sports', 'Casu...  \n",
              "14                     ['Action', 'Adventure', 'Casual']  \n",
              "17               ['Action', 'Indie', 'Casual', 'Sports']  \n",
              "...                                                  ...  \n",
              "74821      ['Strategy', 'Indie', 'Casual', 'Simulation']  \n",
              "74825                    ['Strategy', 'Indie', 'Casual']  \n",
              "74828                  ['Indie', 'Simulation', 'Racing']  \n",
              "74831  ['Indie', 'Casual', 'Puzzle', 'Singleplayer', ...  \n",
              "74833  ['Early Access', 'Adventure', 'Indie', 'Action...  \n",
              "\n",
              "[32133 rows x 3 columns]"
            ]
          },
          "execution_count": 59,
          "metadata": {},
          "output_type": "execute_result"
        }
      ],
      "source": [
        "steam_games"
      ]
    },
    {
      "cell_type": "markdown",
      "metadata": {
        "id": "fsUhAgf8uCBp"
      },
      "source": [
        "Eliminamos los nulos, por más que su porcentaje sea bajo:"
      ]
    },
    {
      "cell_type": "code",
      "execution_count": 60,
      "metadata": {
        "id": "eJKBtj1ouCBq"
      },
      "outputs": [],
      "source": [
        "steam_games = steam_games.dropna()"
      ]
    },
    {
      "cell_type": "markdown",
      "metadata": {
        "id": "zkXaEhSHuCBq"
      },
      "source": [
        "Vemos el tipo de dato de 'steam_games':"
      ]
    },
    {
      "cell_type": "code",
      "execution_count": 63,
      "metadata": {
        "colab": {
          "base_uri": "https://localhost:8080/"
        },
        "id": "C1SbtSIkuCBq",
        "outputId": "f6b4969e-0898-4860-bc58-8a93d8b0e284"
      },
      "outputs": [
        {
          "data": {
            "text/html": [
              "<div>\n",
              "<style scoped>\n",
              "    .dataframe tbody tr th:only-of-type {\n",
              "        vertical-align: middle;\n",
              "    }\n",
              "\n",
              "    .dataframe tbody tr th {\n",
              "        vertical-align: top;\n",
              "    }\n",
              "\n",
              "    .dataframe thead th {\n",
              "        text-align: right;\n",
              "    }\n",
              "</style>\n",
              "<table border=\"1\" class=\"dataframe\">\n",
              "  <thead>\n",
              "    <tr style=\"text-align: right;\">\n",
              "      <th></th>\n",
              "      <th>nombre_columna</th>\n",
              "      <th>tipo_dato</th>\n",
              "    </tr>\n",
              "  </thead>\n",
              "  <tbody>\n",
              "    <tr>\n",
              "      <th>0</th>\n",
              "      <td>item_id</td>\n",
              "      <td>[&lt;class 'int'&gt;]</td>\n",
              "    </tr>\n",
              "    <tr>\n",
              "      <th>1</th>\n",
              "      <td>app_name</td>\n",
              "      <td>[&lt;class 'str'&gt;]</td>\n",
              "    </tr>\n",
              "    <tr>\n",
              "      <th>2</th>\n",
              "      <td>tags</td>\n",
              "      <td>[&lt;class 'str'&gt;]</td>\n",
              "    </tr>\n",
              "  </tbody>\n",
              "</table>\n",
              "</div>"
            ],
            "text/plain": [
              "  nombre_columna        tipo_dato\n",
              "0        item_id  [<class 'int'>]\n",
              "1       app_name  [<class 'str'>]\n",
              "2           tags  [<class 'str'>]"
            ]
          },
          "execution_count": 63,
          "metadata": {},
          "output_type": "execute_result"
        }
      ],
      "source": [
        "f.tipo_datos(steam_games)"
      ]
    },
    {
      "cell_type": "markdown",
      "metadata": {},
      "source": [
        "Cambiamos el tipo de dato de la columna 'item_id' de float a int:"
      ]
    },
    {
      "cell_type": "code",
      "execution_count": 64,
      "metadata": {},
      "outputs": [
        {
          "name": "stderr",
          "output_type": "stream",
          "text": [
            "C:\\Users\\ferna\\AppData\\Local\\Temp\\ipykernel_17088\\615945556.py:1: SettingWithCopyWarning: \n",
            "A value is trying to be set on a copy of a slice from a DataFrame.\n",
            "Try using .loc[row_indexer,col_indexer] = value instead\n",
            "\n",
            "See the caveats in the documentation: https://pandas.pydata.org/pandas-docs/stable/user_guide/indexing.html#returning-a-view-versus-a-copy\n",
            "  steam_games['item_id'] = steam_games['item_id'].astype(int)\n"
          ]
        }
      ],
      "source": [
        "steam_games['item_id'] = steam_games['item_id'].astype(int)"
      ]
    },
    {
      "cell_type": "markdown",
      "metadata": {},
      "source": [
        "Verificamos:"
      ]
    },
    {
      "cell_type": "code",
      "execution_count": 65,
      "metadata": {},
      "outputs": [
        {
          "data": {
            "text/html": [
              "<div>\n",
              "<style scoped>\n",
              "    .dataframe tbody tr th:only-of-type {\n",
              "        vertical-align: middle;\n",
              "    }\n",
              "\n",
              "    .dataframe tbody tr th {\n",
              "        vertical-align: top;\n",
              "    }\n",
              "\n",
              "    .dataframe thead th {\n",
              "        text-align: right;\n",
              "    }\n",
              "</style>\n",
              "<table border=\"1\" class=\"dataframe\">\n",
              "  <thead>\n",
              "    <tr style=\"text-align: right;\">\n",
              "      <th></th>\n",
              "      <th>nombre_columna</th>\n",
              "      <th>tipo_dato</th>\n",
              "    </tr>\n",
              "  </thead>\n",
              "  <tbody>\n",
              "    <tr>\n",
              "      <th>0</th>\n",
              "      <td>item_id</td>\n",
              "      <td>[&lt;class 'int'&gt;]</td>\n",
              "    </tr>\n",
              "    <tr>\n",
              "      <th>1</th>\n",
              "      <td>app_name</td>\n",
              "      <td>[&lt;class 'str'&gt;]</td>\n",
              "    </tr>\n",
              "    <tr>\n",
              "      <th>2</th>\n",
              "      <td>tags</td>\n",
              "      <td>[&lt;class 'str'&gt;]</td>\n",
              "    </tr>\n",
              "  </tbody>\n",
              "</table>\n",
              "</div>"
            ],
            "text/plain": [
              "  nombre_columna        tipo_dato\n",
              "0        item_id  [<class 'int'>]\n",
              "1       app_name  [<class 'str'>]\n",
              "2           tags  [<class 'str'>]"
            ]
          },
          "execution_count": 65,
          "metadata": {},
          "output_type": "execute_result"
        }
      ],
      "source": [
        "f.tipo_datos(steam_games)"
      ]
    },
    {
      "cell_type": "markdown",
      "metadata": {
        "id": "xyQ_hngkuCBr"
      },
      "source": [
        "Cambiamos el tipo de dato de la columna 'tags' a list:"
      ]
    },
    {
      "cell_type": "code",
      "execution_count": 66,
      "metadata": {
        "colab": {
          "base_uri": "https://localhost:8080/"
        },
        "id": "pPglXNZduCBr",
        "outputId": "d8cc977f-d26c-4fa1-eab6-bfd2888ccbee"
      },
      "outputs": [
        {
          "name": "stderr",
          "output_type": "stream",
          "text": [
            "C:\\Users\\ferna\\AppData\\Local\\Temp\\ipykernel_17088\\3014051190.py:1: SettingWithCopyWarning: \n",
            "A value is trying to be set on a copy of a slice from a DataFrame.\n",
            "Try using .loc[row_indexer,col_indexer] = value instead\n",
            "\n",
            "See the caveats in the documentation: https://pandas.pydata.org/pandas-docs/stable/user_guide/indexing.html#returning-a-view-versus-a-copy\n",
            "  steam_games['tags'] = steam_games['tags'].apply(lambda x: ast.literal_eval(x) if pd.notna(x) else [])\n"
          ]
        }
      ],
      "source": [
        "steam_games['tags'] = steam_games['tags'].apply(lambda x: ast.literal_eval(x) if pd.notna(x) else [])"
      ]
    },
    {
      "cell_type": "markdown",
      "metadata": {
        "id": "7ddDVtBmuCBr"
      },
      "source": [
        "Verificamos:"
      ]
    },
    {
      "cell_type": "code",
      "execution_count": 67,
      "metadata": {
        "colab": {
          "base_uri": "https://localhost:8080/"
        },
        "id": "cexDEFmcuCBs",
        "outputId": "84e10ade-1ff5-418c-c90a-985521dc1484"
      },
      "outputs": [
        {
          "data": {
            "text/plain": [
              "list"
            ]
          },
          "execution_count": 67,
          "metadata": {},
          "output_type": "execute_result"
        }
      ],
      "source": [
        "type(steam_games['tags'][0])"
      ]
    },
    {
      "cell_type": "markdown",
      "metadata": {
        "id": "u1N9bn71uCBs"
      },
      "source": [
        "Separamos las etiquetas:"
      ]
    },
    {
      "cell_type": "code",
      "execution_count": 68,
      "metadata": {
        "id": "9tmqzk-MuCBs"
      },
      "outputs": [],
      "source": [
        "games = steam_games['tags'].apply(lambda x: ','.join(map(str, x)))\n",
        "\n",
        "games = games.str.split(',', expand=True)"
      ]
    },
    {
      "cell_type": "markdown",
      "metadata": {
        "id": "AD5b5wtfuCBs"
      },
      "source": [
        "Verificamos:"
      ]
    },
    {
      "cell_type": "code",
      "execution_count": 69,
      "metadata": {
        "colab": {
          "base_uri": "https://localhost:8080/",
          "height": 513
        },
        "id": "n3b-FbvFuCBs",
        "outputId": "8b66b59c-379c-46b3-a480-ef6ca1b67dc1"
      },
      "outputs": [
        {
          "data": {
            "text/html": [
              "<div>\n",
              "<style scoped>\n",
              "    .dataframe tbody tr th:only-of-type {\n",
              "        vertical-align: middle;\n",
              "    }\n",
              "\n",
              "    .dataframe tbody tr th {\n",
              "        vertical-align: top;\n",
              "    }\n",
              "\n",
              "    .dataframe thead th {\n",
              "        text-align: right;\n",
              "    }\n",
              "</style>\n",
              "<table border=\"1\" class=\"dataframe\">\n",
              "  <thead>\n",
              "    <tr style=\"text-align: right;\">\n",
              "      <th></th>\n",
              "      <th>0</th>\n",
              "      <th>1</th>\n",
              "      <th>2</th>\n",
              "      <th>3</th>\n",
              "      <th>4</th>\n",
              "      <th>5</th>\n",
              "      <th>6</th>\n",
              "      <th>7</th>\n",
              "      <th>8</th>\n",
              "      <th>9</th>\n",
              "      <th>10</th>\n",
              "      <th>11</th>\n",
              "      <th>12</th>\n",
              "      <th>13</th>\n",
              "      <th>14</th>\n",
              "      <th>15</th>\n",
              "      <th>16</th>\n",
              "      <th>17</th>\n",
              "      <th>18</th>\n",
              "      <th>19</th>\n",
              "    </tr>\n",
              "  </thead>\n",
              "  <tbody>\n",
              "    <tr>\n",
              "      <th>0</th>\n",
              "      <td>Strategy</td>\n",
              "      <td>Action</td>\n",
              "      <td>Indie</td>\n",
              "      <td>Casual</td>\n",
              "      <td>Simulation</td>\n",
              "      <td>None</td>\n",
              "      <td>None</td>\n",
              "      <td>None</td>\n",
              "      <td>None</td>\n",
              "      <td>None</td>\n",
              "      <td>None</td>\n",
              "      <td>None</td>\n",
              "      <td>None</td>\n",
              "      <td>None</td>\n",
              "      <td>None</td>\n",
              "      <td>None</td>\n",
              "      <td>None</td>\n",
              "      <td>None</td>\n",
              "      <td>None</td>\n",
              "      <td>None</td>\n",
              "    </tr>\n",
              "    <tr>\n",
              "      <th>5</th>\n",
              "      <td>Free to Play</td>\n",
              "      <td>Strategy</td>\n",
              "      <td>Indie</td>\n",
              "      <td>RPG</td>\n",
              "      <td>Card Game</td>\n",
              "      <td>Trading Card Game</td>\n",
              "      <td>Turn-Based</td>\n",
              "      <td>Fantasy</td>\n",
              "      <td>Tactical</td>\n",
              "      <td>Dark Fantasy</td>\n",
              "      <td>Board Game</td>\n",
              "      <td>PvP</td>\n",
              "      <td>2D</td>\n",
              "      <td>Competitive</td>\n",
              "      <td>Replay Value</td>\n",
              "      <td>Character Customization</td>\n",
              "      <td>Female Protagonist</td>\n",
              "      <td>Difficult</td>\n",
              "      <td>Design &amp; Illustration</td>\n",
              "      <td>None</td>\n",
              "    </tr>\n",
              "    <tr>\n",
              "      <th>9</th>\n",
              "      <td>Free to Play</td>\n",
              "      <td>Simulation</td>\n",
              "      <td>Sports</td>\n",
              "      <td>Casual</td>\n",
              "      <td>Indie</td>\n",
              "      <td>Multiplayer</td>\n",
              "      <td>None</td>\n",
              "      <td>None</td>\n",
              "      <td>None</td>\n",
              "      <td>None</td>\n",
              "      <td>None</td>\n",
              "      <td>None</td>\n",
              "      <td>None</td>\n",
              "      <td>None</td>\n",
              "      <td>None</td>\n",
              "      <td>None</td>\n",
              "      <td>None</td>\n",
              "      <td>None</td>\n",
              "      <td>None</td>\n",
              "      <td>None</td>\n",
              "    </tr>\n",
              "    <tr>\n",
              "      <th>14</th>\n",
              "      <td>Action</td>\n",
              "      <td>Adventure</td>\n",
              "      <td>Casual</td>\n",
              "      <td>None</td>\n",
              "      <td>None</td>\n",
              "      <td>None</td>\n",
              "      <td>None</td>\n",
              "      <td>None</td>\n",
              "      <td>None</td>\n",
              "      <td>None</td>\n",
              "      <td>None</td>\n",
              "      <td>None</td>\n",
              "      <td>None</td>\n",
              "      <td>None</td>\n",
              "      <td>None</td>\n",
              "      <td>None</td>\n",
              "      <td>None</td>\n",
              "      <td>None</td>\n",
              "      <td>None</td>\n",
              "      <td>None</td>\n",
              "    </tr>\n",
              "    <tr>\n",
              "      <th>17</th>\n",
              "      <td>Action</td>\n",
              "      <td>Indie</td>\n",
              "      <td>Casual</td>\n",
              "      <td>Sports</td>\n",
              "      <td>None</td>\n",
              "      <td>None</td>\n",
              "      <td>None</td>\n",
              "      <td>None</td>\n",
              "      <td>None</td>\n",
              "      <td>None</td>\n",
              "      <td>None</td>\n",
              "      <td>None</td>\n",
              "      <td>None</td>\n",
              "      <td>None</td>\n",
              "      <td>None</td>\n",
              "      <td>None</td>\n",
              "      <td>None</td>\n",
              "      <td>None</td>\n",
              "      <td>None</td>\n",
              "      <td>None</td>\n",
              "    </tr>\n",
              "    <tr>\n",
              "      <th>...</th>\n",
              "      <td>...</td>\n",
              "      <td>...</td>\n",
              "      <td>...</td>\n",
              "      <td>...</td>\n",
              "      <td>...</td>\n",
              "      <td>...</td>\n",
              "      <td>...</td>\n",
              "      <td>...</td>\n",
              "      <td>...</td>\n",
              "      <td>...</td>\n",
              "      <td>...</td>\n",
              "      <td>...</td>\n",
              "      <td>...</td>\n",
              "      <td>...</td>\n",
              "      <td>...</td>\n",
              "      <td>...</td>\n",
              "      <td>...</td>\n",
              "      <td>...</td>\n",
              "      <td>...</td>\n",
              "      <td>...</td>\n",
              "    </tr>\n",
              "    <tr>\n",
              "      <th>74821</th>\n",
              "      <td>Strategy</td>\n",
              "      <td>Indie</td>\n",
              "      <td>Casual</td>\n",
              "      <td>Simulation</td>\n",
              "      <td>None</td>\n",
              "      <td>None</td>\n",
              "      <td>None</td>\n",
              "      <td>None</td>\n",
              "      <td>None</td>\n",
              "      <td>None</td>\n",
              "      <td>None</td>\n",
              "      <td>None</td>\n",
              "      <td>None</td>\n",
              "      <td>None</td>\n",
              "      <td>None</td>\n",
              "      <td>None</td>\n",
              "      <td>None</td>\n",
              "      <td>None</td>\n",
              "      <td>None</td>\n",
              "      <td>None</td>\n",
              "    </tr>\n",
              "    <tr>\n",
              "      <th>74825</th>\n",
              "      <td>Strategy</td>\n",
              "      <td>Indie</td>\n",
              "      <td>Casual</td>\n",
              "      <td>None</td>\n",
              "      <td>None</td>\n",
              "      <td>None</td>\n",
              "      <td>None</td>\n",
              "      <td>None</td>\n",
              "      <td>None</td>\n",
              "      <td>None</td>\n",
              "      <td>None</td>\n",
              "      <td>None</td>\n",
              "      <td>None</td>\n",
              "      <td>None</td>\n",
              "      <td>None</td>\n",
              "      <td>None</td>\n",
              "      <td>None</td>\n",
              "      <td>None</td>\n",
              "      <td>None</td>\n",
              "      <td>None</td>\n",
              "    </tr>\n",
              "    <tr>\n",
              "      <th>74828</th>\n",
              "      <td>Indie</td>\n",
              "      <td>Simulation</td>\n",
              "      <td>Racing</td>\n",
              "      <td>None</td>\n",
              "      <td>None</td>\n",
              "      <td>None</td>\n",
              "      <td>None</td>\n",
              "      <td>None</td>\n",
              "      <td>None</td>\n",
              "      <td>None</td>\n",
              "      <td>None</td>\n",
              "      <td>None</td>\n",
              "      <td>None</td>\n",
              "      <td>None</td>\n",
              "      <td>None</td>\n",
              "      <td>None</td>\n",
              "      <td>None</td>\n",
              "      <td>None</td>\n",
              "      <td>None</td>\n",
              "      <td>None</td>\n",
              "    </tr>\n",
              "    <tr>\n",
              "      <th>74831</th>\n",
              "      <td>Indie</td>\n",
              "      <td>Casual</td>\n",
              "      <td>Puzzle</td>\n",
              "      <td>Singleplayer</td>\n",
              "      <td>Atmospheric</td>\n",
              "      <td>Relaxing</td>\n",
              "      <td>None</td>\n",
              "      <td>None</td>\n",
              "      <td>None</td>\n",
              "      <td>None</td>\n",
              "      <td>None</td>\n",
              "      <td>None</td>\n",
              "      <td>None</td>\n",
              "      <td>None</td>\n",
              "      <td>None</td>\n",
              "      <td>None</td>\n",
              "      <td>None</td>\n",
              "      <td>None</td>\n",
              "      <td>None</td>\n",
              "      <td>None</td>\n",
              "    </tr>\n",
              "    <tr>\n",
              "      <th>74833</th>\n",
              "      <td>Early Access</td>\n",
              "      <td>Adventure</td>\n",
              "      <td>Indie</td>\n",
              "      <td>Action</td>\n",
              "      <td>Simulation</td>\n",
              "      <td>VR</td>\n",
              "      <td>None</td>\n",
              "      <td>None</td>\n",
              "      <td>None</td>\n",
              "      <td>None</td>\n",
              "      <td>None</td>\n",
              "      <td>None</td>\n",
              "      <td>None</td>\n",
              "      <td>None</td>\n",
              "      <td>None</td>\n",
              "      <td>None</td>\n",
              "      <td>None</td>\n",
              "      <td>None</td>\n",
              "      <td>None</td>\n",
              "      <td>None</td>\n",
              "    </tr>\n",
              "  </tbody>\n",
              "</table>\n",
              "<p>31969 rows × 20 columns</p>\n",
              "</div>"
            ],
            "text/plain": [
              "                 0           1       2             3            4   \\\n",
              "0          Strategy      Action   Indie        Casual   Simulation   \n",
              "5      Free to Play    Strategy   Indie           RPG    Card Game   \n",
              "9      Free to Play  Simulation  Sports        Casual        Indie   \n",
              "14           Action   Adventure  Casual          None         None   \n",
              "17           Action       Indie  Casual        Sports         None   \n",
              "...             ...         ...     ...           ...          ...   \n",
              "74821      Strategy       Indie  Casual    Simulation         None   \n",
              "74825      Strategy       Indie  Casual          None         None   \n",
              "74828         Indie  Simulation  Racing          None         None   \n",
              "74831         Indie      Casual  Puzzle  Singleplayer  Atmospheric   \n",
              "74833  Early Access   Adventure   Indie        Action   Simulation   \n",
              "\n",
              "                      5           6        7         8             9   \\\n",
              "0                   None        None     None      None          None   \n",
              "5      Trading Card Game  Turn-Based  Fantasy  Tactical  Dark Fantasy   \n",
              "9            Multiplayer        None     None      None          None   \n",
              "14                  None        None     None      None          None   \n",
              "17                  None        None     None      None          None   \n",
              "...                  ...         ...      ...       ...           ...   \n",
              "74821               None        None     None      None          None   \n",
              "74825               None        None     None      None          None   \n",
              "74828               None        None     None      None          None   \n",
              "74831           Relaxing        None     None      None          None   \n",
              "74833                 VR        None     None      None          None   \n",
              "\n",
              "               10    11    12           13            14  \\\n",
              "0            None  None  None         None          None   \n",
              "5      Board Game   PvP    2D  Competitive  Replay Value   \n",
              "9            None  None  None         None          None   \n",
              "14           None  None  None         None          None   \n",
              "17           None  None  None         None          None   \n",
              "...           ...   ...   ...          ...           ...   \n",
              "74821        None  None  None         None          None   \n",
              "74825        None  None  None         None          None   \n",
              "74828        None  None  None         None          None   \n",
              "74831        None  None  None         None          None   \n",
              "74833        None  None  None         None          None   \n",
              "\n",
              "                            15                  16         17  \\\n",
              "0                         None                None       None   \n",
              "5      Character Customization  Female Protagonist  Difficult   \n",
              "9                         None                None       None   \n",
              "14                        None                None       None   \n",
              "17                        None                None       None   \n",
              "...                        ...                 ...        ...   \n",
              "74821                     None                None       None   \n",
              "74825                     None                None       None   \n",
              "74828                     None                None       None   \n",
              "74831                     None                None       None   \n",
              "74833                     None                None       None   \n",
              "\n",
              "                          18    19  \n",
              "0                       None  None  \n",
              "5      Design & Illustration  None  \n",
              "9                       None  None  \n",
              "14                      None  None  \n",
              "17                      None  None  \n",
              "...                      ...   ...  \n",
              "74821                   None  None  \n",
              "74825                   None  None  \n",
              "74828                   None  None  \n",
              "74831                   None  None  \n",
              "74833                   None  None  \n",
              "\n",
              "[31969 rows x 20 columns]"
            ]
          },
          "execution_count": 69,
          "metadata": {},
          "output_type": "execute_result"
        }
      ],
      "source": [
        "games"
      ]
    },
    {
      "cell_type": "markdown",
      "metadata": {
        "id": "LKt-ZAZFuCBt"
      },
      "source": [
        "Generamos Dummies:"
      ]
    },
    {
      "cell_type": "code",
      "execution_count": 70,
      "metadata": {
        "id": "MH16GUkLuCBt"
      },
      "outputs": [],
      "source": [
        "games = pd.get_dummies(games)"
      ]
    },
    {
      "cell_type": "code",
      "execution_count": 71,
      "metadata": {
        "colab": {
          "base_uri": "https://localhost:8080/",
          "height": 478
        },
        "id": "UDbUafX6uCBt",
        "outputId": "d9a8bfcd-a217-4c24-cd68-6654477a9054"
      },
      "outputs": [
        {
          "data": {
            "text/html": [
              "<div>\n",
              "<style scoped>\n",
              "    .dataframe tbody tr th:only-of-type {\n",
              "        vertical-align: middle;\n",
              "    }\n",
              "\n",
              "    .dataframe tbody tr th {\n",
              "        vertical-align: top;\n",
              "    }\n",
              "\n",
              "    .dataframe thead th {\n",
              "        text-align: right;\n",
              "    }\n",
              "</style>\n",
              "<table border=\"1\" class=\"dataframe\">\n",
              "  <thead>\n",
              "    <tr style=\"text-align: right;\">\n",
              "      <th></th>\n",
              "      <th>0_2D</th>\n",
              "      <th>0_2D Fighter</th>\n",
              "      <th>0_360 Video</th>\n",
              "      <th>0_3D Platformer</th>\n",
              "      <th>0_4 Player Local</th>\n",
              "      <th>0_4X</th>\n",
              "      <th>0_Action</th>\n",
              "      <th>0_Action RPG</th>\n",
              "      <th>0_Adventure</th>\n",
              "      <th>0_America</th>\n",
              "      <th>...</th>\n",
              "      <th>19_Underwater</th>\n",
              "      <th>19_Utilities</th>\n",
              "      <th>19_VR</th>\n",
              "      <th>19_Video Production</th>\n",
              "      <th>19_Violent</th>\n",
              "      <th>19_Visual Novel</th>\n",
              "      <th>19_Voxel</th>\n",
              "      <th>19_Walking Simulator</th>\n",
              "      <th>19_Wargame</th>\n",
              "      <th>19_Zombies</th>\n",
              "    </tr>\n",
              "  </thead>\n",
              "  <tbody>\n",
              "    <tr>\n",
              "      <th>0</th>\n",
              "      <td>False</td>\n",
              "      <td>False</td>\n",
              "      <td>False</td>\n",
              "      <td>False</td>\n",
              "      <td>False</td>\n",
              "      <td>False</td>\n",
              "      <td>False</td>\n",
              "      <td>False</td>\n",
              "      <td>False</td>\n",
              "      <td>False</td>\n",
              "      <td>...</td>\n",
              "      <td>False</td>\n",
              "      <td>False</td>\n",
              "      <td>False</td>\n",
              "      <td>False</td>\n",
              "      <td>False</td>\n",
              "      <td>False</td>\n",
              "      <td>False</td>\n",
              "      <td>False</td>\n",
              "      <td>False</td>\n",
              "      <td>False</td>\n",
              "    </tr>\n",
              "    <tr>\n",
              "      <th>5</th>\n",
              "      <td>False</td>\n",
              "      <td>False</td>\n",
              "      <td>False</td>\n",
              "      <td>False</td>\n",
              "      <td>False</td>\n",
              "      <td>False</td>\n",
              "      <td>False</td>\n",
              "      <td>False</td>\n",
              "      <td>False</td>\n",
              "      <td>False</td>\n",
              "      <td>...</td>\n",
              "      <td>False</td>\n",
              "      <td>False</td>\n",
              "      <td>False</td>\n",
              "      <td>False</td>\n",
              "      <td>False</td>\n",
              "      <td>False</td>\n",
              "      <td>False</td>\n",
              "      <td>False</td>\n",
              "      <td>False</td>\n",
              "      <td>False</td>\n",
              "    </tr>\n",
              "    <tr>\n",
              "      <th>9</th>\n",
              "      <td>False</td>\n",
              "      <td>False</td>\n",
              "      <td>False</td>\n",
              "      <td>False</td>\n",
              "      <td>False</td>\n",
              "      <td>False</td>\n",
              "      <td>False</td>\n",
              "      <td>False</td>\n",
              "      <td>False</td>\n",
              "      <td>False</td>\n",
              "      <td>...</td>\n",
              "      <td>False</td>\n",
              "      <td>False</td>\n",
              "      <td>False</td>\n",
              "      <td>False</td>\n",
              "      <td>False</td>\n",
              "      <td>False</td>\n",
              "      <td>False</td>\n",
              "      <td>False</td>\n",
              "      <td>False</td>\n",
              "      <td>False</td>\n",
              "    </tr>\n",
              "    <tr>\n",
              "      <th>14</th>\n",
              "      <td>False</td>\n",
              "      <td>False</td>\n",
              "      <td>False</td>\n",
              "      <td>False</td>\n",
              "      <td>False</td>\n",
              "      <td>False</td>\n",
              "      <td>True</td>\n",
              "      <td>False</td>\n",
              "      <td>False</td>\n",
              "      <td>False</td>\n",
              "      <td>...</td>\n",
              "      <td>False</td>\n",
              "      <td>False</td>\n",
              "      <td>False</td>\n",
              "      <td>False</td>\n",
              "      <td>False</td>\n",
              "      <td>False</td>\n",
              "      <td>False</td>\n",
              "      <td>False</td>\n",
              "      <td>False</td>\n",
              "      <td>False</td>\n",
              "    </tr>\n",
              "    <tr>\n",
              "      <th>17</th>\n",
              "      <td>False</td>\n",
              "      <td>False</td>\n",
              "      <td>False</td>\n",
              "      <td>False</td>\n",
              "      <td>False</td>\n",
              "      <td>False</td>\n",
              "      <td>True</td>\n",
              "      <td>False</td>\n",
              "      <td>False</td>\n",
              "      <td>False</td>\n",
              "      <td>...</td>\n",
              "      <td>False</td>\n",
              "      <td>False</td>\n",
              "      <td>False</td>\n",
              "      <td>False</td>\n",
              "      <td>False</td>\n",
              "      <td>False</td>\n",
              "      <td>False</td>\n",
              "      <td>False</td>\n",
              "      <td>False</td>\n",
              "      <td>False</td>\n",
              "    </tr>\n",
              "    <tr>\n",
              "      <th>...</th>\n",
              "      <td>...</td>\n",
              "      <td>...</td>\n",
              "      <td>...</td>\n",
              "      <td>...</td>\n",
              "      <td>...</td>\n",
              "      <td>...</td>\n",
              "      <td>...</td>\n",
              "      <td>...</td>\n",
              "      <td>...</td>\n",
              "      <td>...</td>\n",
              "      <td>...</td>\n",
              "      <td>...</td>\n",
              "      <td>...</td>\n",
              "      <td>...</td>\n",
              "      <td>...</td>\n",
              "      <td>...</td>\n",
              "      <td>...</td>\n",
              "      <td>...</td>\n",
              "      <td>...</td>\n",
              "      <td>...</td>\n",
              "      <td>...</td>\n",
              "    </tr>\n",
              "    <tr>\n",
              "      <th>74821</th>\n",
              "      <td>False</td>\n",
              "      <td>False</td>\n",
              "      <td>False</td>\n",
              "      <td>False</td>\n",
              "      <td>False</td>\n",
              "      <td>False</td>\n",
              "      <td>False</td>\n",
              "      <td>False</td>\n",
              "      <td>False</td>\n",
              "      <td>False</td>\n",
              "      <td>...</td>\n",
              "      <td>False</td>\n",
              "      <td>False</td>\n",
              "      <td>False</td>\n",
              "      <td>False</td>\n",
              "      <td>False</td>\n",
              "      <td>False</td>\n",
              "      <td>False</td>\n",
              "      <td>False</td>\n",
              "      <td>False</td>\n",
              "      <td>False</td>\n",
              "    </tr>\n",
              "    <tr>\n",
              "      <th>74825</th>\n",
              "      <td>False</td>\n",
              "      <td>False</td>\n",
              "      <td>False</td>\n",
              "      <td>False</td>\n",
              "      <td>False</td>\n",
              "      <td>False</td>\n",
              "      <td>False</td>\n",
              "      <td>False</td>\n",
              "      <td>False</td>\n",
              "      <td>False</td>\n",
              "      <td>...</td>\n",
              "      <td>False</td>\n",
              "      <td>False</td>\n",
              "      <td>False</td>\n",
              "      <td>False</td>\n",
              "      <td>False</td>\n",
              "      <td>False</td>\n",
              "      <td>False</td>\n",
              "      <td>False</td>\n",
              "      <td>False</td>\n",
              "      <td>False</td>\n",
              "    </tr>\n",
              "    <tr>\n",
              "      <th>74828</th>\n",
              "      <td>False</td>\n",
              "      <td>False</td>\n",
              "      <td>False</td>\n",
              "      <td>False</td>\n",
              "      <td>False</td>\n",
              "      <td>False</td>\n",
              "      <td>False</td>\n",
              "      <td>False</td>\n",
              "      <td>False</td>\n",
              "      <td>False</td>\n",
              "      <td>...</td>\n",
              "      <td>False</td>\n",
              "      <td>False</td>\n",
              "      <td>False</td>\n",
              "      <td>False</td>\n",
              "      <td>False</td>\n",
              "      <td>False</td>\n",
              "      <td>False</td>\n",
              "      <td>False</td>\n",
              "      <td>False</td>\n",
              "      <td>False</td>\n",
              "    </tr>\n",
              "    <tr>\n",
              "      <th>74831</th>\n",
              "      <td>False</td>\n",
              "      <td>False</td>\n",
              "      <td>False</td>\n",
              "      <td>False</td>\n",
              "      <td>False</td>\n",
              "      <td>False</td>\n",
              "      <td>False</td>\n",
              "      <td>False</td>\n",
              "      <td>False</td>\n",
              "      <td>False</td>\n",
              "      <td>...</td>\n",
              "      <td>False</td>\n",
              "      <td>False</td>\n",
              "      <td>False</td>\n",
              "      <td>False</td>\n",
              "      <td>False</td>\n",
              "      <td>False</td>\n",
              "      <td>False</td>\n",
              "      <td>False</td>\n",
              "      <td>False</td>\n",
              "      <td>False</td>\n",
              "    </tr>\n",
              "    <tr>\n",
              "      <th>74833</th>\n",
              "      <td>False</td>\n",
              "      <td>False</td>\n",
              "      <td>False</td>\n",
              "      <td>False</td>\n",
              "      <td>False</td>\n",
              "      <td>False</td>\n",
              "      <td>False</td>\n",
              "      <td>False</td>\n",
              "      <td>False</td>\n",
              "      <td>False</td>\n",
              "      <td>...</td>\n",
              "      <td>False</td>\n",
              "      <td>False</td>\n",
              "      <td>False</td>\n",
              "      <td>False</td>\n",
              "      <td>False</td>\n",
              "      <td>False</td>\n",
              "      <td>False</td>\n",
              "      <td>False</td>\n",
              "      <td>False</td>\n",
              "      <td>False</td>\n",
              "    </tr>\n",
              "  </tbody>\n",
              "</table>\n",
              "<p>31969 rows × 5454 columns</p>\n",
              "</div>"
            ],
            "text/plain": [
              "        0_2D  0_2D Fighter  0_360 Video  0_3D Platformer  0_4 Player Local  \\\n",
              "0      False         False        False            False             False   \n",
              "5      False         False        False            False             False   \n",
              "9      False         False        False            False             False   \n",
              "14     False         False        False            False             False   \n",
              "17     False         False        False            False             False   \n",
              "...      ...           ...          ...              ...               ...   \n",
              "74821  False         False        False            False             False   \n",
              "74825  False         False        False            False             False   \n",
              "74828  False         False        False            False             False   \n",
              "74831  False         False        False            False             False   \n",
              "74833  False         False        False            False             False   \n",
              "\n",
              "        0_4X  0_Action  0_Action RPG  0_Adventure  0_America  ...  \\\n",
              "0      False     False         False        False      False  ...   \n",
              "5      False     False         False        False      False  ...   \n",
              "9      False     False         False        False      False  ...   \n",
              "14     False      True         False        False      False  ...   \n",
              "17     False      True         False        False      False  ...   \n",
              "...      ...       ...           ...          ...        ...  ...   \n",
              "74821  False     False         False        False      False  ...   \n",
              "74825  False     False         False        False      False  ...   \n",
              "74828  False     False         False        False      False  ...   \n",
              "74831  False     False         False        False      False  ...   \n",
              "74833  False     False         False        False      False  ...   \n",
              "\n",
              "       19_Underwater  19_Utilities  19_VR  19_Video Production  19_Violent  \\\n",
              "0              False         False  False                False       False   \n",
              "5              False         False  False                False       False   \n",
              "9              False         False  False                False       False   \n",
              "14             False         False  False                False       False   \n",
              "17             False         False  False                False       False   \n",
              "...              ...           ...    ...                  ...         ...   \n",
              "74821          False         False  False                False       False   \n",
              "74825          False         False  False                False       False   \n",
              "74828          False         False  False                False       False   \n",
              "74831          False         False  False                False       False   \n",
              "74833          False         False  False                False       False   \n",
              "\n",
              "       19_Visual Novel  19_Voxel  19_Walking Simulator  19_Wargame  19_Zombies  \n",
              "0                False     False                 False       False       False  \n",
              "5                False     False                 False       False       False  \n",
              "9                False     False                 False       False       False  \n",
              "14               False     False                 False       False       False  \n",
              "17               False     False                 False       False       False  \n",
              "...                ...       ...                   ...         ...         ...  \n",
              "74821            False     False                 False       False       False  \n",
              "74825            False     False                 False       False       False  \n",
              "74828            False     False                 False       False       False  \n",
              "74831            False     False                 False       False       False  \n",
              "74833            False     False                 False       False       False  \n",
              "\n",
              "[31969 rows x 5454 columns]"
            ]
          },
          "execution_count": 71,
          "metadata": {},
          "output_type": "execute_result"
        }
      ],
      "source": [
        "games"
      ]
    },
    {
      "cell_type": "markdown",
      "metadata": {
        "id": "4iWoji2luCBu"
      },
      "source": [
        "Concatenamos ambos DataFrames:"
      ]
    },
    {
      "cell_type": "code",
      "execution_count": 72,
      "metadata": {
        "id": "Kd8CUc0TuCBu"
      },
      "outputs": [],
      "source": [
        "steam_games_final = pd.concat([steam_games, games], axis= 1)"
      ]
    },
    {
      "cell_type": "code",
      "execution_count": 73,
      "metadata": {
        "colab": {
          "base_uri": "https://localhost:8080/",
          "height": 1000
        },
        "id": "VGaadoGauCBu",
        "outputId": "962b0dc5-8429-422a-aaad-e14ab12a928f"
      },
      "outputs": [
        {
          "data": {
            "text/html": [
              "<div>\n",
              "<style scoped>\n",
              "    .dataframe tbody tr th:only-of-type {\n",
              "        vertical-align: middle;\n",
              "    }\n",
              "\n",
              "    .dataframe tbody tr th {\n",
              "        vertical-align: top;\n",
              "    }\n",
              "\n",
              "    .dataframe thead th {\n",
              "        text-align: right;\n",
              "    }\n",
              "</style>\n",
              "<table border=\"1\" class=\"dataframe\">\n",
              "  <thead>\n",
              "    <tr style=\"text-align: right;\">\n",
              "      <th></th>\n",
              "      <th>item_id</th>\n",
              "      <th>app_name</th>\n",
              "      <th>tags</th>\n",
              "      <th>0_2D</th>\n",
              "      <th>0_2D Fighter</th>\n",
              "      <th>0_360 Video</th>\n",
              "      <th>0_3D Platformer</th>\n",
              "      <th>0_4 Player Local</th>\n",
              "      <th>0_4X</th>\n",
              "      <th>0_Action</th>\n",
              "      <th>...</th>\n",
              "      <th>19_Underwater</th>\n",
              "      <th>19_Utilities</th>\n",
              "      <th>19_VR</th>\n",
              "      <th>19_Video Production</th>\n",
              "      <th>19_Violent</th>\n",
              "      <th>19_Visual Novel</th>\n",
              "      <th>19_Voxel</th>\n",
              "      <th>19_Walking Simulator</th>\n",
              "      <th>19_Wargame</th>\n",
              "      <th>19_Zombies</th>\n",
              "    </tr>\n",
              "  </thead>\n",
              "  <tbody>\n",
              "    <tr>\n",
              "      <th>0</th>\n",
              "      <td>761140</td>\n",
              "      <td>Lost Summoner Kitty</td>\n",
              "      <td>[Strategy, Action, Indie, Casual, Simulation]</td>\n",
              "      <td>False</td>\n",
              "      <td>False</td>\n",
              "      <td>False</td>\n",
              "      <td>False</td>\n",
              "      <td>False</td>\n",
              "      <td>False</td>\n",
              "      <td>False</td>\n",
              "      <td>...</td>\n",
              "      <td>False</td>\n",
              "      <td>False</td>\n",
              "      <td>False</td>\n",
              "      <td>False</td>\n",
              "      <td>False</td>\n",
              "      <td>False</td>\n",
              "      <td>False</td>\n",
              "      <td>False</td>\n",
              "      <td>False</td>\n",
              "      <td>False</td>\n",
              "    </tr>\n",
              "    <tr>\n",
              "      <th>5</th>\n",
              "      <td>643980</td>\n",
              "      <td>Ironbound</td>\n",
              "      <td>[Free to Play, Strategy, Indie, RPG, Card Game...</td>\n",
              "      <td>False</td>\n",
              "      <td>False</td>\n",
              "      <td>False</td>\n",
              "      <td>False</td>\n",
              "      <td>False</td>\n",
              "      <td>False</td>\n",
              "      <td>False</td>\n",
              "      <td>...</td>\n",
              "      <td>False</td>\n",
              "      <td>False</td>\n",
              "      <td>False</td>\n",
              "      <td>False</td>\n",
              "      <td>False</td>\n",
              "      <td>False</td>\n",
              "      <td>False</td>\n",
              "      <td>False</td>\n",
              "      <td>False</td>\n",
              "      <td>False</td>\n",
              "    </tr>\n",
              "    <tr>\n",
              "      <th>9</th>\n",
              "      <td>670290</td>\n",
              "      <td>Real Pool 3D - Poolians</td>\n",
              "      <td>[Free to Play, Simulation, Sports, Casual, Ind...</td>\n",
              "      <td>False</td>\n",
              "      <td>False</td>\n",
              "      <td>False</td>\n",
              "      <td>False</td>\n",
              "      <td>False</td>\n",
              "      <td>False</td>\n",
              "      <td>False</td>\n",
              "      <td>...</td>\n",
              "      <td>False</td>\n",
              "      <td>False</td>\n",
              "      <td>False</td>\n",
              "      <td>False</td>\n",
              "      <td>False</td>\n",
              "      <td>False</td>\n",
              "      <td>False</td>\n",
              "      <td>False</td>\n",
              "      <td>False</td>\n",
              "      <td>False</td>\n",
              "    </tr>\n",
              "    <tr>\n",
              "      <th>14</th>\n",
              "      <td>767400</td>\n",
              "      <td>弹炸人2222</td>\n",
              "      <td>[Action, Adventure, Casual]</td>\n",
              "      <td>False</td>\n",
              "      <td>False</td>\n",
              "      <td>False</td>\n",
              "      <td>False</td>\n",
              "      <td>False</td>\n",
              "      <td>False</td>\n",
              "      <td>True</td>\n",
              "      <td>...</td>\n",
              "      <td>False</td>\n",
              "      <td>False</td>\n",
              "      <td>False</td>\n",
              "      <td>False</td>\n",
              "      <td>False</td>\n",
              "      <td>False</td>\n",
              "      <td>False</td>\n",
              "      <td>False</td>\n",
              "      <td>False</td>\n",
              "      <td>False</td>\n",
              "    </tr>\n",
              "    <tr>\n",
              "      <th>17</th>\n",
              "      <td>773570</td>\n",
              "      <td>Log Challenge</td>\n",
              "      <td>[Action, Indie, Casual, Sports]</td>\n",
              "      <td>False</td>\n",
              "      <td>False</td>\n",
              "      <td>False</td>\n",
              "      <td>False</td>\n",
              "      <td>False</td>\n",
              "      <td>False</td>\n",
              "      <td>True</td>\n",
              "      <td>...</td>\n",
              "      <td>False</td>\n",
              "      <td>False</td>\n",
              "      <td>False</td>\n",
              "      <td>False</td>\n",
              "      <td>False</td>\n",
              "      <td>False</td>\n",
              "      <td>False</td>\n",
              "      <td>False</td>\n",
              "      <td>False</td>\n",
              "      <td>False</td>\n",
              "    </tr>\n",
              "    <tr>\n",
              "      <th>...</th>\n",
              "      <td>...</td>\n",
              "      <td>...</td>\n",
              "      <td>...</td>\n",
              "      <td>...</td>\n",
              "      <td>...</td>\n",
              "      <td>...</td>\n",
              "      <td>...</td>\n",
              "      <td>...</td>\n",
              "      <td>...</td>\n",
              "      <td>...</td>\n",
              "      <td>...</td>\n",
              "      <td>...</td>\n",
              "      <td>...</td>\n",
              "      <td>...</td>\n",
              "      <td>...</td>\n",
              "      <td>...</td>\n",
              "      <td>...</td>\n",
              "      <td>...</td>\n",
              "      <td>...</td>\n",
              "      <td>...</td>\n",
              "      <td>...</td>\n",
              "    </tr>\n",
              "    <tr>\n",
              "      <th>74821</th>\n",
              "      <td>773640</td>\n",
              "      <td>Colony On Mars</td>\n",
              "      <td>[Strategy, Indie, Casual, Simulation]</td>\n",
              "      <td>False</td>\n",
              "      <td>False</td>\n",
              "      <td>False</td>\n",
              "      <td>False</td>\n",
              "      <td>False</td>\n",
              "      <td>False</td>\n",
              "      <td>False</td>\n",
              "      <td>...</td>\n",
              "      <td>False</td>\n",
              "      <td>False</td>\n",
              "      <td>False</td>\n",
              "      <td>False</td>\n",
              "      <td>False</td>\n",
              "      <td>False</td>\n",
              "      <td>False</td>\n",
              "      <td>False</td>\n",
              "      <td>False</td>\n",
              "      <td>False</td>\n",
              "    </tr>\n",
              "    <tr>\n",
              "      <th>74825</th>\n",
              "      <td>733530</td>\n",
              "      <td>LOGistICAL: South Africa</td>\n",
              "      <td>[Strategy, Indie, Casual]</td>\n",
              "      <td>False</td>\n",
              "      <td>False</td>\n",
              "      <td>False</td>\n",
              "      <td>False</td>\n",
              "      <td>False</td>\n",
              "      <td>False</td>\n",
              "      <td>False</td>\n",
              "      <td>...</td>\n",
              "      <td>False</td>\n",
              "      <td>False</td>\n",
              "      <td>False</td>\n",
              "      <td>False</td>\n",
              "      <td>False</td>\n",
              "      <td>False</td>\n",
              "      <td>False</td>\n",
              "      <td>False</td>\n",
              "      <td>False</td>\n",
              "      <td>False</td>\n",
              "    </tr>\n",
              "    <tr>\n",
              "      <th>74828</th>\n",
              "      <td>610660</td>\n",
              "      <td>Russian Roads</td>\n",
              "      <td>[Indie, Simulation, Racing]</td>\n",
              "      <td>False</td>\n",
              "      <td>False</td>\n",
              "      <td>False</td>\n",
              "      <td>False</td>\n",
              "      <td>False</td>\n",
              "      <td>False</td>\n",
              "      <td>False</td>\n",
              "      <td>...</td>\n",
              "      <td>False</td>\n",
              "      <td>False</td>\n",
              "      <td>False</td>\n",
              "      <td>False</td>\n",
              "      <td>False</td>\n",
              "      <td>False</td>\n",
              "      <td>False</td>\n",
              "      <td>False</td>\n",
              "      <td>False</td>\n",
              "      <td>False</td>\n",
              "    </tr>\n",
              "    <tr>\n",
              "      <th>74831</th>\n",
              "      <td>658870</td>\n",
              "      <td>EXIT 2 - Directions</td>\n",
              "      <td>[Indie, Casual, Puzzle, Singleplayer, Atmosphe...</td>\n",
              "      <td>False</td>\n",
              "      <td>False</td>\n",
              "      <td>False</td>\n",
              "      <td>False</td>\n",
              "      <td>False</td>\n",
              "      <td>False</td>\n",
              "      <td>False</td>\n",
              "      <td>...</td>\n",
              "      <td>False</td>\n",
              "      <td>False</td>\n",
              "      <td>False</td>\n",
              "      <td>False</td>\n",
              "      <td>False</td>\n",
              "      <td>False</td>\n",
              "      <td>False</td>\n",
              "      <td>False</td>\n",
              "      <td>False</td>\n",
              "      <td>False</td>\n",
              "    </tr>\n",
              "    <tr>\n",
              "      <th>74833</th>\n",
              "      <td>681550</td>\n",
              "      <td>Maze Run VR</td>\n",
              "      <td>[Early Access, Adventure, Indie, Action, Simul...</td>\n",
              "      <td>False</td>\n",
              "      <td>False</td>\n",
              "      <td>False</td>\n",
              "      <td>False</td>\n",
              "      <td>False</td>\n",
              "      <td>False</td>\n",
              "      <td>False</td>\n",
              "      <td>...</td>\n",
              "      <td>False</td>\n",
              "      <td>False</td>\n",
              "      <td>False</td>\n",
              "      <td>False</td>\n",
              "      <td>False</td>\n",
              "      <td>False</td>\n",
              "      <td>False</td>\n",
              "      <td>False</td>\n",
              "      <td>False</td>\n",
              "      <td>False</td>\n",
              "    </tr>\n",
              "  </tbody>\n",
              "</table>\n",
              "<p>31969 rows × 5457 columns</p>\n",
              "</div>"
            ],
            "text/plain": [
              "       item_id                  app_name  \\\n",
              "0       761140       Lost Summoner Kitty   \n",
              "5       643980                 Ironbound   \n",
              "9       670290   Real Pool 3D - Poolians   \n",
              "14      767400                   弹炸人2222   \n",
              "17      773570             Log Challenge   \n",
              "...        ...                       ...   \n",
              "74821   773640            Colony On Mars   \n",
              "74825   733530  LOGistICAL: South Africa   \n",
              "74828   610660             Russian Roads   \n",
              "74831   658870       EXIT 2 - Directions   \n",
              "74833   681550               Maze Run VR   \n",
              "\n",
              "                                                    tags   0_2D  0_2D Fighter  \\\n",
              "0          [Strategy, Action, Indie, Casual, Simulation]  False         False   \n",
              "5      [Free to Play, Strategy, Indie, RPG, Card Game...  False         False   \n",
              "9      [Free to Play, Simulation, Sports, Casual, Ind...  False         False   \n",
              "14                           [Action, Adventure, Casual]  False         False   \n",
              "17                       [Action, Indie, Casual, Sports]  False         False   \n",
              "...                                                  ...    ...           ...   \n",
              "74821              [Strategy, Indie, Casual, Simulation]  False         False   \n",
              "74825                          [Strategy, Indie, Casual]  False         False   \n",
              "74828                        [Indie, Simulation, Racing]  False         False   \n",
              "74831  [Indie, Casual, Puzzle, Singleplayer, Atmosphe...  False         False   \n",
              "74833  [Early Access, Adventure, Indie, Action, Simul...  False         False   \n",
              "\n",
              "       0_360 Video  0_3D Platformer  0_4 Player Local   0_4X  0_Action  ...  \\\n",
              "0            False            False             False  False     False  ...   \n",
              "5            False            False             False  False     False  ...   \n",
              "9            False            False             False  False     False  ...   \n",
              "14           False            False             False  False      True  ...   \n",
              "17           False            False             False  False      True  ...   \n",
              "...            ...              ...               ...    ...       ...  ...   \n",
              "74821        False            False             False  False     False  ...   \n",
              "74825        False            False             False  False     False  ...   \n",
              "74828        False            False             False  False     False  ...   \n",
              "74831        False            False             False  False     False  ...   \n",
              "74833        False            False             False  False     False  ...   \n",
              "\n",
              "       19_Underwater  19_Utilities  19_VR  19_Video Production  19_Violent  \\\n",
              "0              False         False  False                False       False   \n",
              "5              False         False  False                False       False   \n",
              "9              False         False  False                False       False   \n",
              "14             False         False  False                False       False   \n",
              "17             False         False  False                False       False   \n",
              "...              ...           ...    ...                  ...         ...   \n",
              "74821          False         False  False                False       False   \n",
              "74825          False         False  False                False       False   \n",
              "74828          False         False  False                False       False   \n",
              "74831          False         False  False                False       False   \n",
              "74833          False         False  False                False       False   \n",
              "\n",
              "       19_Visual Novel  19_Voxel  19_Walking Simulator  19_Wargame  19_Zombies  \n",
              "0                False     False                 False       False       False  \n",
              "5                False     False                 False       False       False  \n",
              "9                False     False                 False       False       False  \n",
              "14               False     False                 False       False       False  \n",
              "17               False     False                 False       False       False  \n",
              "...                ...       ...                   ...         ...         ...  \n",
              "74821            False     False                 False       False       False  \n",
              "74825            False     False                 False       False       False  \n",
              "74828            False     False                 False       False       False  \n",
              "74831            False     False                 False       False       False  \n",
              "74833            False     False                 False       False       False  \n",
              "\n",
              "[31969 rows x 5457 columns]"
            ]
          },
          "execution_count": 73,
          "metadata": {},
          "output_type": "execute_result"
        }
      ],
      "source": [
        "steam_games_final"
      ]
    },
    {
      "cell_type": "markdown",
      "metadata": {
        "id": "n4P4kj_DuCBu"
      },
      "source": [
        "Reindexamos:"
      ]
    },
    {
      "cell_type": "code",
      "execution_count": 74,
      "metadata": {
        "id": "ELWPaGpXuCBv"
      },
      "outputs": [],
      "source": [
        "steam_games_final.reset_index(drop=True, inplace=True)"
      ]
    },
    {
      "cell_type": "markdown",
      "metadata": {
        "id": "roYlNpMWuCBv"
      },
      "source": [
        "Generamos el coeficiente del coseno:"
      ]
    },
    {
      "cell_type": "code",
      "execution_count": 75,
      "metadata": {
        "id": "lMMr2qIauLEa"
      },
      "outputs": [],
      "source": [
        "similitud = cosine_similarity(steam_games_final.iloc[:,3:])"
      ]
    },
    {
      "cell_type": "code",
      "execution_count": 78,
      "metadata": {
        "colab": {
          "base_uri": "https://localhost:8080/"
        },
        "id": "ILjK2RFvuCB5",
        "outputId": "c96f4a1a-5ee1-4175-f62a-fc43c3bcc03e"
      },
      "outputs": [
        {
          "data": {
            "text/plain": [
              "(31969, 31969)"
            ]
          },
          "execution_count": 78,
          "metadata": {},
          "output_type": "execute_result"
        }
      ],
      "source": [
        "similitud.shape"
      ]
    },
    {
      "cell_type": "code",
      "execution_count": 79,
      "metadata": {
        "colab": {
          "base_uri": "https://localhost:8080/"
        },
        "id": "tKeKHdkAuCB5",
        "outputId": "54b2150c-a346-473a-f16c-3a8ff2eea512"
      },
      "outputs": [
        {
          "data": {
            "text/plain": [
              "array([[1.        , 0.10259784, 0.18257419, ..., 0.        , 0.        ,\n",
              "        0.36514837],\n",
              "       [0.10259784, 1.        , 0.09365858, ..., 0.        , 0.        ,\n",
              "        0.09365858],\n",
              "       [0.18257419, 0.09365858, 1.        , ..., 0.23570226, 0.        ,\n",
              "        0.        ],\n",
              "       ...,\n",
              "       [0.        , 0.        , 0.23570226, ..., 1.        , 0.23570226,\n",
              "        0.        ],\n",
              "       [0.        , 0.        , 0.        , ..., 0.23570226, 1.        ,\n",
              "        0.        ],\n",
              "       [0.36514837, 0.09365858, 0.        , ..., 0.        , 0.        ,\n",
              "        1.        ]])"
            ]
          },
          "execution_count": 79,
          "metadata": {},
          "output_type": "execute_result"
        }
      ],
      "source": [
        "similitud"
      ]
    },
    {
      "cell_type": "markdown",
      "metadata": {},
      "source": [
        "Dividimos el DataFrame con la finalidad de poder montarlo en Render:"
      ]
    },
    {
      "cell_type": "code",
      "execution_count": 80,
      "metadata": {},
      "outputs": [],
      "source": [
        "cantidad_filas = len(steam_games_final)\n",
        "\n",
        "filas_divididas = cantidad_filas // 10\n",
        "\n",
        "modelo_render = steam_games_final.iloc[:filas_divididas]"
      ]
    },
    {
      "cell_type": "code",
      "execution_count": 81,
      "metadata": {},
      "outputs": [
        {
          "data": {
            "text/plain": [
              "(3196, 5457)"
            ]
          },
          "execution_count": 81,
          "metadata": {},
          "output_type": "execute_result"
        }
      ],
      "source": [
        "modelo_render.shape"
      ]
    },
    {
      "cell_type": "code",
      "execution_count": 82,
      "metadata": {},
      "outputs": [],
      "source": [
        "similitud_modelo_render = cosine_similarity(modelo_render.iloc[:,3:])"
      ]
    },
    {
      "cell_type": "code",
      "execution_count": 83,
      "metadata": {},
      "outputs": [],
      "source": [
        "modelo_render.to_parquet('Data/modelo_render.parquet')"
      ]
    },
    {
      "cell_type": "code",
      "execution_count": 88,
      "metadata": {},
      "outputs": [],
      "source": [
        "def recommend_games(id):\n",
        "\n",
        "    game = modelo_render[modelo_render['item_id'].astype(int) == id]\n",
        "\n",
        "    idx = game.index[0]\n",
        "\n",
        "    \n",
        "    sample_size = 2000  \n",
        "    df_sample = modelo_render.sample(n=sample_size, random_state=42)  \n",
        "\n",
        "    \n",
        "    similitud = cosine_similarity([modelo_render.iloc[idx, 3:]], df_sample.iloc[:, 3:])\n",
        "\n",
        "    \n",
        "    similitud = similitud[0]\n",
        "\n",
        "   \n",
        "    juegos_similares = [(i, similitud[i]) for i in range(len(similitud)) if i != idx]\n",
        "    juegos_similares = sorted(juegos_similares, key=lambda x: x[1], reverse=True)\n",
        "\n",
        "    \n",
        "    ind_juegos_similares = [i[0] for i in juegos_similares[:5]]\n",
        "\n",
        "    \n",
        "    nombre_juegos_similares = df_sample['app_name'].iloc[ind_juegos_similares].tolist()\n",
        "\n",
        "    return {'Juegos_similares': nombre_juegos_similares}"
      ]
    },
    {
      "cell_type": "code",
      "execution_count": 89,
      "metadata": {},
      "outputs": [
        {
          "data": {
            "text/plain": [
              "{'Juegos_similares': ['Biozone',\n",
              "  'Atomic Adam: Episode 1',\n",
              "  'Scooby Doo! & Looney Tunes Cartoon Universe: Adventure',\n",
              "  'Raid Mode Character: Albert Wesker',\n",
              "  'Raid Mode: Album Storage B']}"
            ]
          },
          "execution_count": 89,
          "metadata": {},
          "output_type": "execute_result"
        }
      ],
      "source": [
        "recommend_games(767400)"
      ]
    }
  ],
  "metadata": {
    "colab": {
      "machine_shape": "hm",
      "provenance": []
    },
    "kernelspec": {
      "display_name": "Python 3",
      "language": "python",
      "name": "python3"
    },
    "language_info": {
      "codemirror_mode": {
        "name": "ipython",
        "version": 3
      },
      "file_extension": ".py",
      "mimetype": "text/x-python",
      "name": "python",
      "nbconvert_exporter": "python",
      "pygments_lexer": "ipython3",
      "version": "3.11.3"
    }
  },
  "nbformat": 4,
  "nbformat_minor": 0
}
